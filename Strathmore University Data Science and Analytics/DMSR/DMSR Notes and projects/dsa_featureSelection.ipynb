{
 "cells": [
  {
   "cell_type": "markdown",
   "id": "f397fe76",
   "metadata": {},
   "source": [
    "# Agenda\n",
    "Data preprocessing is an important stage of data mining. In this exercise, we perform data feature selection as preprocessing task. The exercise selects a few techniques for each category of feature selection and illustrates how to achieve them. The content for the remainder of this guide is as follows.\n",
    "\n",
    "## Table of Contents\n",
    "1. [Python Libraries](#libraries)  \n",
    "    1.1 [Installing Python Libraries](#lib-install)  \n",
    "    1.2 [Importing Python Libraries](#lib-import)  \n",
    "2. [Feature Selection](#selection)  \n",
    "    2.1 [Univariate Selection](#u-selection)  \n",
    "    2.2 [Multivariate Selection](#m-selection)  \n",
    "    2.3 [Exercise: Feature Selection using Wrappers](#wrapper)  \n",
    "    [The End](#end)\n",
    "\n",
    "\n",
    "# 1. Python Libraries <a name=\"libraries\"></a>\n",
    "## 1.1 Install Python libraries <a name=\"lib-install\"></a>\n",
    "This exercise will requires the following **Python** libraries:\n",
    "\n",
    "<ul>\n",
    "    <li><strong>numpy:</strong> numerical computations</li>\n",
    "    <li><strong>pandas:</strong> data manipulation using DataFrames</li>\n",
    "    <li><strong>scikit learn:</strong> predictive data analysis</li>\n",
    "    <li><strong>matplotlib:</strong> plotting graphs</li>\n",
    "    <li><strong>seaborn:</strong> nice graph visualization</li>\n",
    "</ul>"
   ]
  },
  {
   "cell_type": "code",
   "execution_count": 1,
   "id": "6a540be8",
   "metadata": {
    "scrolled": true
   },
   "outputs": [],
   "source": [
    "# Installing Libraries (if not installed)\n",
    "#!pip3 install matplotlib\n",
    "#!pip3 install scikit-learn\n",
    "#!pip3 install seaborn\n",
    "#!pip3 install numpy\n",
    "#!pip3 install pandas"
   ]
  },
  {
   "cell_type": "markdown",
   "id": "b6b4e7d5",
   "metadata": {},
   "source": [
    "## 1.2 Import libraries <a name=\"lib-import\"></a>"
   ]
  },
  {
   "cell_type": "code",
   "execution_count": 2,
   "id": "eff5fedf",
   "metadata": {},
   "outputs": [],
   "source": [
    "# Importing Libraries\n",
    "from sklearn.datasets import load_boston # Loads our sample data\n",
    "import pandas as pd\n",
    "import numpy as np\n",
    "import matplotlib.pyplot as plt\n",
    "import seaborn as sns\n",
    "from sklearn.linear_model import LassoCV"
   ]
  },
  {
   "cell_type": "markdown",
   "id": "fd825f12",
   "metadata": {},
   "source": [
    "# 2. Feature Selection <a name=\"selection\"></a>\n",
    "This exercise is adopted from [getting data ready for modelling](https://towardsdatascience.com/getting-data-ready-for-modelling-feature-engineering-feature-selection-dimension-reduction-39dfa267b95a).\n",
    "\n",
    "## 2.1 Univariate Feature Selection <a name=\"u-selection\"></a>\n",
    "\n",
    "In this exercise, we perform the following tasks:\n",
    "\n",
    "<ol>\n",
    "    <li>create a dummy data set and load it into a Pandas DataFrame</li>\n",
    "    <li>select a target variable and feature matrix</li>\n",
    "    <li>set a variance threshold</li>\n",
    "    <li>(manually) check every feature against the target by computing variance</li>\n",
    "</ol>\n"
   ]
  },
  {
   "cell_type": "code",
   "execution_count": 3,
   "id": "7caa20d6",
   "metadata": {},
   "outputs": [
    {
     "data": {
      "text/html": [
       "<div>\n",
       "<style scoped>\n",
       "    .dataframe tbody tr th:only-of-type {\n",
       "        vertical-align: middle;\n",
       "    }\n",
       "\n",
       "    .dataframe tbody tr th {\n",
       "        vertical-align: top;\n",
       "    }\n",
       "\n",
       "    .dataframe thead th {\n",
       "        text-align: right;\n",
       "    }\n",
       "</style>\n",
       "<table border=\"1\" class=\"dataframe\">\n",
       "  <thead>\n",
       "    <tr style=\"text-align: right;\">\n",
       "      <th></th>\n",
       "      <th>Size</th>\n",
       "      <th>Bedrooms</th>\n",
       "      <th>Parking</th>\n",
       "      <th>Rent</th>\n",
       "    </tr>\n",
       "  </thead>\n",
       "  <tbody>\n",
       "    <tr>\n",
       "      <th>0</th>\n",
       "      <td>90</td>\n",
       "      <td>2</td>\n",
       "      <td>2</td>\n",
       "      <td>90</td>\n",
       "    </tr>\n",
       "    <tr>\n",
       "      <th>1</th>\n",
       "      <td>97</td>\n",
       "      <td>2</td>\n",
       "      <td>2</td>\n",
       "      <td>100</td>\n",
       "    </tr>\n",
       "    <tr>\n",
       "      <th>2</th>\n",
       "      <td>82</td>\n",
       "      <td>3</td>\n",
       "      <td>3</td>\n",
       "      <td>80</td>\n",
       "    </tr>\n",
       "    <tr>\n",
       "      <th>3</th>\n",
       "      <td>39</td>\n",
       "      <td>1</td>\n",
       "      <td>1</td>\n",
       "      <td>40</td>\n",
       "    </tr>\n",
       "    <tr>\n",
       "      <th>4</th>\n",
       "      <td>120</td>\n",
       "      <td>4</td>\n",
       "      <td>3</td>\n",
       "      <td>120</td>\n",
       "    </tr>\n",
       "  </tbody>\n",
       "</table>\n",
       "</div>"
      ],
      "text/plain": [
       "   Size  Bedrooms  Parking  Rent\n",
       "0    90         2        2    90\n",
       "1    97         2        2   100\n",
       "2    82         3        3    80\n",
       "3    39         1        1    40\n",
       "4   120         4        3   120"
      ]
     },
     "execution_count": 3,
     "metadata": {},
     "output_type": "execute_result"
    }
   ],
   "source": [
    "# Creating dummy data set with the following attributes: \n",
    "# size of house (sq. m), number of bedrooms, number of parking slots, montly rent (usd)\n",
    "data = {'Size': [90, 97, 82, 39, 120],\n",
    "        'Bedrooms': [2, 2, 3, 1, 4],\n",
    "        'Parking': [2, 2, 3, 1, 3],\n",
    "        'Rent': [90, 100, 80, 40, 120]}\n",
    "\n",
    "# Create a DataFrame\n",
    "df = pd.DataFrame(data)\n",
    "df"
   ]
  },
  {
   "cell_type": "code",
   "execution_count": 4,
   "id": "5f1eff0a",
   "metadata": {},
   "outputs": [
    {
     "name": "stderr",
     "output_type": "stream",
     "text": [
      "<ipython-input-4-a8e946e38fae>:2: FutureWarning: In a future version of pandas all arguments of DataFrame.drop except for the argument 'labels' will be keyword-only\n",
      "  X = df.drop(\"Rent\",1)   # Feature Matrix\n"
     ]
    },
    {
     "data": {
      "text/html": [
       "<div>\n",
       "<style scoped>\n",
       "    .dataframe tbody tr th:only-of-type {\n",
       "        vertical-align: middle;\n",
       "    }\n",
       "\n",
       "    .dataframe tbody tr th {\n",
       "        vertical-align: top;\n",
       "    }\n",
       "\n",
       "    .dataframe thead th {\n",
       "        text-align: right;\n",
       "    }\n",
       "</style>\n",
       "<table border=\"1\" class=\"dataframe\">\n",
       "  <thead>\n",
       "    <tr style=\"text-align: right;\">\n",
       "      <th></th>\n",
       "      <th>Size</th>\n",
       "      <th>Bedrooms</th>\n",
       "      <th>Parking</th>\n",
       "    </tr>\n",
       "  </thead>\n",
       "  <tbody>\n",
       "    <tr>\n",
       "      <th>0</th>\n",
       "      <td>90</td>\n",
       "      <td>2</td>\n",
       "      <td>2</td>\n",
       "    </tr>\n",
       "    <tr>\n",
       "      <th>1</th>\n",
       "      <td>97</td>\n",
       "      <td>2</td>\n",
       "      <td>2</td>\n",
       "    </tr>\n",
       "    <tr>\n",
       "      <th>2</th>\n",
       "      <td>82</td>\n",
       "      <td>3</td>\n",
       "      <td>3</td>\n",
       "    </tr>\n",
       "    <tr>\n",
       "      <th>3</th>\n",
       "      <td>39</td>\n",
       "      <td>1</td>\n",
       "      <td>1</td>\n",
       "    </tr>\n",
       "    <tr>\n",
       "      <th>4</th>\n",
       "      <td>120</td>\n",
       "      <td>4</td>\n",
       "      <td>3</td>\n",
       "    </tr>\n",
       "  </tbody>\n",
       "</table>\n",
       "</div>"
      ],
      "text/plain": [
       "   Size  Bedrooms  Parking\n",
       "0    90         2        2\n",
       "1    97         2        2\n",
       "2    82         3        3\n",
       "3    39         1        1\n",
       "4   120         4        3"
      ]
     },
     "execution_count": 4,
     "metadata": {},
     "output_type": "execute_result"
    }
   ],
   "source": [
    "# Choosing target variable and feature matrix\n",
    "X = df.drop(\"Rent\",1)   # Feature Matrix\n",
    "y = df[\"Rent\"]          # Target Variable\n",
    "X"
   ]
  },
  {
   "cell_type": "code",
   "execution_count": 5,
   "id": "f16d6b0e",
   "metadata": {},
   "outputs": [
    {
     "name": "stdout",
     "output_type": "stream",
     "text": [
      "0    0.0\n",
      "1    4.5\n",
      "2    2.0\n",
      "3    0.5\n",
      "4    0.0\n",
      "dtype: float64\n",
      "-----\n",
      "0    3872.0\n",
      "1    4802.0\n",
      "2    2964.5\n",
      "3     760.5\n",
      "4    6728.0\n",
      "dtype: float64\n",
      "-----\n",
      "0    3872.0\n",
      "1    4802.0\n",
      "2    2964.5\n",
      "3     760.5\n",
      "4    6844.5\n",
      "dtype: float64\n",
      "-----\n"
     ]
    }
   ],
   "source": [
    "# Target Variable: Rent\n",
    "# Feature Matrix: Size and Bedrooms\n",
    "# Threshold Variance Value: 5\n",
    "\n",
    "# comparisons\n",
    "var1 = df[[\"Rent\", \"Size\"]].var(axis=1)\n",
    "var2 = df[[\"Rent\", \"Bedrooms\"]].var(axis=1)\n",
    "var3 = df[[\"Rent\", \"Parking\"]].var(axis=1)\n",
    "# var4 = df[[\"Rent\", \"Rent\"]].var(axis=1)\n",
    "\n",
    "\n",
    "\n",
    "print(var1)\n",
    "print(\"-----\")\n",
    "print(var2)\n",
    "print(\"-----\")\n",
    "print(var3)\n",
    "print(\"-----\")\n",
    "#var2\n",
    "#var3\n",
    "#var1.mean()\n",
    "#var1.mode()\n",
    "#var2.mode()\n",
    "#var3.mode()\n"
   ]
  },
  {
   "cell_type": "markdown",
   "id": "ab0872df",
   "metadata": {},
   "source": [
    "### Discussion\n",
    "\n",
    "In the example above, we use a dummy data set that has the attributes: {Size, Bedrooms, Parking, Rent}. {Rent} is chosen to the target variable and {Size, Bedrooms, Parking} form the feature matrix. \n",
    "\n",
    "In the exercise, each feature in the feature matrix is compared against the target variable to check its importance. Variance is computed for each comparison. The minimum variance threshold used in this example is 5; that is, if the variance of the comparison is less than 5 then the affected samples have almost the same values. This implies that these samples will not generate any meaningful information when applied on a predictive model.\n",
    "\n",
    "In this example, we see that feature {Size} when compared to the target variable {Rent} yields variance that are less than 5 for all the samples. This feature can be ignored because it will not bring any predictive power to the model."
   ]
  },
  {
   "cell_type": "markdown",
   "id": "f6b18e4c",
   "metadata": {},
   "source": [
    "## 2.2 Multivariate Feature Selection <a name=\"m-selection\"></a>\n",
    "\n",
    "This exercise has been adopted from [feature selection with pandas](https://towardsdatascience.com/feature-selection-with-pandas-e3690ad8504b).\n",
    "\n",
    "### 1. Load data set\n",
    "In this section, we perform our the following preprocessing tasks:\n",
    "\n",
    "<ol>\n",
    "    <li>load the Boston data set (from sk-learn) into a <strong>Pandas</strong> DataFrame;</li>\n",
    "    <li>choose the <strong>Target Variable</strong> and the <strong>Feature Matrix</strong>.</li>\n",
    "</ol>\n",
    " "
   ]
  },
  {
   "cell_type": "code",
   "execution_count": 6,
   "id": "9b4c8641",
   "metadata": {},
   "outputs": [
    {
     "data": {
      "text/html": [
       "<div>\n",
       "<style scoped>\n",
       "    .dataframe tbody tr th:only-of-type {\n",
       "        vertical-align: middle;\n",
       "    }\n",
       "\n",
       "    .dataframe tbody tr th {\n",
       "        vertical-align: top;\n",
       "    }\n",
       "\n",
       "    .dataframe thead th {\n",
       "        text-align: right;\n",
       "    }\n",
       "</style>\n",
       "<table border=\"1\" class=\"dataframe\">\n",
       "  <thead>\n",
       "    <tr style=\"text-align: right;\">\n",
       "      <th></th>\n",
       "      <th>CRIM</th>\n",
       "      <th>ZN</th>\n",
       "      <th>INDUS</th>\n",
       "      <th>CHAS</th>\n",
       "      <th>NOX</th>\n",
       "      <th>RM</th>\n",
       "      <th>AGE</th>\n",
       "      <th>DIS</th>\n",
       "      <th>RAD</th>\n",
       "      <th>TAX</th>\n",
       "      <th>PTRATIO</th>\n",
       "      <th>B</th>\n",
       "      <th>LSTAT</th>\n",
       "    </tr>\n",
       "  </thead>\n",
       "  <tbody>\n",
       "    <tr>\n",
       "      <th>501</th>\n",
       "      <td>0.06263</td>\n",
       "      <td>0.0</td>\n",
       "      <td>11.93</td>\n",
       "      <td>0.0</td>\n",
       "      <td>0.573</td>\n",
       "      <td>6.593</td>\n",
       "      <td>69.1</td>\n",
       "      <td>2.4786</td>\n",
       "      <td>1.0</td>\n",
       "      <td>273.0</td>\n",
       "      <td>21.0</td>\n",
       "      <td>391.99</td>\n",
       "      <td>9.67</td>\n",
       "    </tr>\n",
       "    <tr>\n",
       "      <th>502</th>\n",
       "      <td>0.04527</td>\n",
       "      <td>0.0</td>\n",
       "      <td>11.93</td>\n",
       "      <td>0.0</td>\n",
       "      <td>0.573</td>\n",
       "      <td>6.120</td>\n",
       "      <td>76.7</td>\n",
       "      <td>2.2875</td>\n",
       "      <td>1.0</td>\n",
       "      <td>273.0</td>\n",
       "      <td>21.0</td>\n",
       "      <td>396.90</td>\n",
       "      <td>9.08</td>\n",
       "    </tr>\n",
       "    <tr>\n",
       "      <th>503</th>\n",
       "      <td>0.06076</td>\n",
       "      <td>0.0</td>\n",
       "      <td>11.93</td>\n",
       "      <td>0.0</td>\n",
       "      <td>0.573</td>\n",
       "      <td>6.976</td>\n",
       "      <td>91.0</td>\n",
       "      <td>2.1675</td>\n",
       "      <td>1.0</td>\n",
       "      <td>273.0</td>\n",
       "      <td>21.0</td>\n",
       "      <td>396.90</td>\n",
       "      <td>5.64</td>\n",
       "    </tr>\n",
       "    <tr>\n",
       "      <th>504</th>\n",
       "      <td>0.10959</td>\n",
       "      <td>0.0</td>\n",
       "      <td>11.93</td>\n",
       "      <td>0.0</td>\n",
       "      <td>0.573</td>\n",
       "      <td>6.794</td>\n",
       "      <td>89.3</td>\n",
       "      <td>2.3889</td>\n",
       "      <td>1.0</td>\n",
       "      <td>273.0</td>\n",
       "      <td>21.0</td>\n",
       "      <td>393.45</td>\n",
       "      <td>6.48</td>\n",
       "    </tr>\n",
       "    <tr>\n",
       "      <th>505</th>\n",
       "      <td>0.04741</td>\n",
       "      <td>0.0</td>\n",
       "      <td>11.93</td>\n",
       "      <td>0.0</td>\n",
       "      <td>0.573</td>\n",
       "      <td>6.030</td>\n",
       "      <td>80.8</td>\n",
       "      <td>2.5050</td>\n",
       "      <td>1.0</td>\n",
       "      <td>273.0</td>\n",
       "      <td>21.0</td>\n",
       "      <td>396.90</td>\n",
       "      <td>7.88</td>\n",
       "    </tr>\n",
       "  </tbody>\n",
       "</table>\n",
       "</div>"
      ],
      "text/plain": [
       "        CRIM   ZN  INDUS  CHAS    NOX     RM   AGE     DIS  RAD    TAX  \\\n",
       "501  0.06263  0.0  11.93   0.0  0.573  6.593  69.1  2.4786  1.0  273.0   \n",
       "502  0.04527  0.0  11.93   0.0  0.573  6.120  76.7  2.2875  1.0  273.0   \n",
       "503  0.06076  0.0  11.93   0.0  0.573  6.976  91.0  2.1675  1.0  273.0   \n",
       "504  0.10959  0.0  11.93   0.0  0.573  6.794  89.3  2.3889  1.0  273.0   \n",
       "505  0.04741  0.0  11.93   0.0  0.573  6.030  80.8  2.5050  1.0  273.0   \n",
       "\n",
       "     PTRATIO       B  LSTAT  \n",
       "501     21.0  391.99   9.67  \n",
       "502     21.0  396.90   9.08  \n",
       "503     21.0  396.90   5.64  \n",
       "504     21.0  393.45   6.48  \n",
       "505     21.0  396.90   7.88  "
      ]
     },
     "execution_count": 6,
     "metadata": {},
     "output_type": "execute_result"
    }
   ],
   "source": [
    "# Loading the dataset\n",
    "x = load_boston()\n",
    "df_2 = pd.DataFrame(x.data, columns = x.feature_names)\n",
    "#df\n",
    "#df.columns\n",
    "df_2.tail()\n",
    "#x.target"
   ]
  },
  {
   "cell_type": "code",
   "execution_count": 7,
   "id": "23d08b28",
   "metadata": {},
   "outputs": [
    {
     "name": "stderr",
     "output_type": "stream",
     "text": [
      "<ipython-input-7-26a96003ccf1>:3: FutureWarning: In a future version of pandas all arguments of DataFrame.drop except for the argument 'labels' will be keyword-only\n",
      "  X_2 = df_2.drop(\"MEDV\",1)   # Feature Matrix\n"
     ]
    },
    {
     "data": {
      "text/html": [
       "<div>\n",
       "<style scoped>\n",
       "    .dataframe tbody tr th:only-of-type {\n",
       "        vertical-align: middle;\n",
       "    }\n",
       "\n",
       "    .dataframe tbody tr th {\n",
       "        vertical-align: top;\n",
       "    }\n",
       "\n",
       "    .dataframe thead th {\n",
       "        text-align: right;\n",
       "    }\n",
       "</style>\n",
       "<table border=\"1\" class=\"dataframe\">\n",
       "  <thead>\n",
       "    <tr style=\"text-align: right;\">\n",
       "      <th></th>\n",
       "      <th>CRIM</th>\n",
       "      <th>ZN</th>\n",
       "      <th>INDUS</th>\n",
       "      <th>CHAS</th>\n",
       "      <th>NOX</th>\n",
       "      <th>RM</th>\n",
       "      <th>AGE</th>\n",
       "      <th>DIS</th>\n",
       "      <th>RAD</th>\n",
       "      <th>TAX</th>\n",
       "      <th>PTRATIO</th>\n",
       "      <th>B</th>\n",
       "      <th>LSTAT</th>\n",
       "      <th>MEDV</th>\n",
       "    </tr>\n",
       "  </thead>\n",
       "  <tbody>\n",
       "    <tr>\n",
       "      <th>0</th>\n",
       "      <td>0.00632</td>\n",
       "      <td>18.0</td>\n",
       "      <td>2.31</td>\n",
       "      <td>0.0</td>\n",
       "      <td>0.538</td>\n",
       "      <td>6.575</td>\n",
       "      <td>65.2</td>\n",
       "      <td>4.0900</td>\n",
       "      <td>1.0</td>\n",
       "      <td>296.0</td>\n",
       "      <td>15.3</td>\n",
       "      <td>396.90</td>\n",
       "      <td>4.98</td>\n",
       "      <td>24.0</td>\n",
       "    </tr>\n",
       "    <tr>\n",
       "      <th>1</th>\n",
       "      <td>0.02731</td>\n",
       "      <td>0.0</td>\n",
       "      <td>7.07</td>\n",
       "      <td>0.0</td>\n",
       "      <td>0.469</td>\n",
       "      <td>6.421</td>\n",
       "      <td>78.9</td>\n",
       "      <td>4.9671</td>\n",
       "      <td>2.0</td>\n",
       "      <td>242.0</td>\n",
       "      <td>17.8</td>\n",
       "      <td>396.90</td>\n",
       "      <td>9.14</td>\n",
       "      <td>21.6</td>\n",
       "    </tr>\n",
       "    <tr>\n",
       "      <th>2</th>\n",
       "      <td>0.02729</td>\n",
       "      <td>0.0</td>\n",
       "      <td>7.07</td>\n",
       "      <td>0.0</td>\n",
       "      <td>0.469</td>\n",
       "      <td>7.185</td>\n",
       "      <td>61.1</td>\n",
       "      <td>4.9671</td>\n",
       "      <td>2.0</td>\n",
       "      <td>242.0</td>\n",
       "      <td>17.8</td>\n",
       "      <td>392.83</td>\n",
       "      <td>4.03</td>\n",
       "      <td>34.7</td>\n",
       "    </tr>\n",
       "    <tr>\n",
       "      <th>3</th>\n",
       "      <td>0.03237</td>\n",
       "      <td>0.0</td>\n",
       "      <td>2.18</td>\n",
       "      <td>0.0</td>\n",
       "      <td>0.458</td>\n",
       "      <td>6.998</td>\n",
       "      <td>45.8</td>\n",
       "      <td>6.0622</td>\n",
       "      <td>3.0</td>\n",
       "      <td>222.0</td>\n",
       "      <td>18.7</td>\n",
       "      <td>394.63</td>\n",
       "      <td>2.94</td>\n",
       "      <td>33.4</td>\n",
       "    </tr>\n",
       "    <tr>\n",
       "      <th>4</th>\n",
       "      <td>0.06905</td>\n",
       "      <td>0.0</td>\n",
       "      <td>2.18</td>\n",
       "      <td>0.0</td>\n",
       "      <td>0.458</td>\n",
       "      <td>7.147</td>\n",
       "      <td>54.2</td>\n",
       "      <td>6.0622</td>\n",
       "      <td>3.0</td>\n",
       "      <td>222.0</td>\n",
       "      <td>18.7</td>\n",
       "      <td>396.90</td>\n",
       "      <td>5.33</td>\n",
       "      <td>36.2</td>\n",
       "    </tr>\n",
       "  </tbody>\n",
       "</table>\n",
       "</div>"
      ],
      "text/plain": [
       "      CRIM    ZN  INDUS  CHAS    NOX     RM   AGE     DIS  RAD    TAX  \\\n",
       "0  0.00632  18.0   2.31   0.0  0.538  6.575  65.2  4.0900  1.0  296.0   \n",
       "1  0.02731   0.0   7.07   0.0  0.469  6.421  78.9  4.9671  2.0  242.0   \n",
       "2  0.02729   0.0   7.07   0.0  0.469  7.185  61.1  4.9671  2.0  242.0   \n",
       "3  0.03237   0.0   2.18   0.0  0.458  6.998  45.8  6.0622  3.0  222.0   \n",
       "4  0.06905   0.0   2.18   0.0  0.458  7.147  54.2  6.0622  3.0  222.0   \n",
       "\n",
       "   PTRATIO       B  LSTAT  MEDV  \n",
       "0     15.3  396.90   4.98  24.0  \n",
       "1     17.8  396.90   9.14  21.6  \n",
       "2     17.8  392.83   4.03  34.7  \n",
       "3     18.7  394.63   2.94  33.4  \n",
       "4     18.7  396.90   5.33  36.2  "
      ]
     },
     "execution_count": 7,
     "metadata": {},
     "output_type": "execute_result"
    }
   ],
   "source": [
    "# Choosing target variable and feature matrix\n",
    "df_2[\"MEDV\"] = x.target   # Add a new column to df\n",
    "X_2 = df_2.drop(\"MEDV\",1)   # Feature Matrix\n",
    "y_2 = df_2[\"MEDV\"]          # Target Variable\n",
    "df_2.head()               # returns first 5 rows of the data set\n",
    "#df_2.values"
   ]
  },
  {
   "cell_type": "markdown",
   "id": "d99618fd",
   "metadata": {},
   "source": [
    "### 2. Filter FS method (Pearson correlation)\n",
    "\n",
    "As the name suggests, you filter and pick only the relevant features (usually a subset of the original features). Filter methods are used a preprocessing step since the methods do not use any machine learning algorithms.\n",
    "\n",
    "In this exercise, we perform filtering using a Pearson correlation matrix. We compute and plot correlation heatmap and observe the correlation of features with target variable. We only select features whose absolute correlation coefficient values are above 0.5.\n",
    "\n",
    "The correlation coefficient has values between -1 to 1:\n",
    "\n",
    "<ul>\n",
    "    <li>A value closer to 0 implies weaker correlation (exact 0 implying no correlation)</li>\n",
    "    <li>A value closer to 1 implies stronger positive correlation</li>\n",
    "    <li>A value closer to -1 implies stronger negative correlation</li>\n",
    "</ul>\n",
    "\n"
   ]
  },
  {
   "cell_type": "code",
   "execution_count": 8,
   "id": "30abe1c2",
   "metadata": {},
   "outputs": [
    {
     "data": {
      "image/png": "[encoded data removed]",
      "text/plain": [
       "<Figure size 864x720 with 2 Axes>"
      ]
     },
     "metadata": {
      "needs_background": "light"
     },
     "output_type": "display_data"
    }
   ],
   "source": [
    "# Using Pearson Correlation of all features (including target)\n",
    "plt.figure(figsize=(12,10))                      # creating a plot figure\n",
    "#cor = df.corr()                                 # compute correlation\n",
    "cor = df_2.corr()\n",
    "sns.heatmap(cor, annot=True, cmap=plt.cm.Reds)   # plot heatmap\n",
    "plt.show()                                       # show heatmap"
   ]
  },
  {
   "cell_type": "code",
   "execution_count": 9,
   "id": "b5718cde",
   "metadata": {},
   "outputs": [
    {
     "data": {
      "text/plain": [
       "RM         0.695360\n",
       "PTRATIO    0.507787\n",
       "LSTAT      0.737663\n",
       "MEDV       1.000000\n",
       "Name: MEDV, dtype: float64"
      ]
     },
     "execution_count": 9,
     "metadata": {},
     "output_type": "execute_result"
    }
   ],
   "source": [
    "#Correlation with output variable\n",
    "cor_target = abs(cor[\"MEDV\"])\n",
    "#cor_target = abs(cor[\"Rent\"])\n",
    "\n",
    "\n",
    "#Selecting highly correlated features\n",
    "relevant_features = cor_target[cor_target>0.5]\n",
    "relevant_features"
   ]
  },
  {
   "cell_type": "markdown",
   "id": "28cb0a20",
   "metadata": {},
   "source": [
    "### Discussion\n",
    "\n",
    "We observe that only the features RM, PTRATIO and LSTAT are highly correlated with the output variable MEDV (above 0.5). So we drop the other features apart from these."
   ]
  },
  {
   "cell_type": "markdown",
   "id": "9f5a506e",
   "metadata": {},
   "source": [
    "### 3. Embedded FS method (Lasso regularization)\n",
    "\n",
    "Embedded methods are iterative and select features based on importance. In every iteration of the model training process, they select features which contribute most to the training for a particular iteration. Regularization techniques are the most commonly used embedded methods and they penalize a feature given a coefficient threshold.\n",
    "\n",
    "In this exercise, we use the Lasso regularization technique to select important features. If a feature is irrelevant, Lasso penalizes it’s coefficient (makes it 0). The features whose coefficient = 0 are removed and the others are taken."
   ]
  },
  {
   "cell_type": "code",
   "execution_count": 10,
   "id": "63c7be06",
   "metadata": {},
   "outputs": [
    {
     "name": "stdout",
     "output_type": "stream",
     "text": [
      "Best alpha using built-in LassoCV: 0.724820\n",
      "Best score using built-in LassoCV: 0.702444\n",
      "Lasso picked 10 variables and eliminated the other 3 variables\n"
     ]
    },
    {
     "data": {
      "text/plain": [
       "array([-0.07426626,  0.04945448, -0.        ,  0.        , -0.        ,\n",
       "        1.804385  ,  0.01133345, -0.81324404,  0.27228399, -0.01542465,\n",
       "       -0.74287183,  0.00892587, -0.70365352])"
      ]
     },
     "execution_count": 10,
     "metadata": {},
     "output_type": "execute_result"
    }
   ],
   "source": [
    "X = X_2\n",
    "y = y_2\n",
    "reg = LassoCV()\n",
    "reg.fit(X, y)\n",
    "print(\"Best alpha using built-in LassoCV: %f\" % reg.alpha_)\n",
    "print(\"Best score using built-in LassoCV: %f\" %reg.score(X,y))\n",
    "coef = pd.Series(reg.coef_, index = X.columns)\n",
    "print(\"Lasso picked \" + str(sum(coef != 0)) +\n",
    "      \" variables and eliminated the other \" +  str(sum(coef == 0)) + \" variables\")\n",
    "#coef\n",
    "reg.coef_"
   ]
  },
  {
   "cell_type": "code",
   "execution_count": 11,
   "id": "11e821e4",
   "metadata": {},
   "outputs": [
    {
     "data": {
      "text/plain": [
       "LassoCV()"
      ]
     },
     "execution_count": 11,
     "metadata": {},
     "output_type": "execute_result"
    }
   ],
   "source": [
    "reg.fit(X,y)"
   ]
  },
  {
   "cell_type": "code",
   "execution_count": 12,
   "id": "8e076736",
   "metadata": {},
   "outputs": [
    {
     "data": {
      "image/png": "[encoded data removed]",
      "text/plain": [
       "<Figure size 576x720 with 1 Axes>"
      ]
     },
     "metadata": {
      "needs_background": "light"
     },
     "output_type": "display_data"
    }
   ],
   "source": [
    "imp_coef = coef.sort_values()\n",
    "import matplotlib\n",
    "matplotlib.rcParams['figure.figsize'] = (8.0, 10.0)\n",
    "imp_coef.plot(kind = \"barh\")\n",
    "plt.title(\"Feature importance using Lasso Model\")\n",
    "plt.show()"
   ]
  },
  {
   "cell_type": "markdown",
   "id": "9daa8c63",
   "metadata": {},
   "source": [
    "### Discussion\n",
    "\n",
    "Here Lasso model has taken all the features except NOX, CHAS and INDUS.\n",
    "\n",
    "## 2.3 Exercise: Feature Selection using Wrappers <a name=\"wrapper\"></a>\n",
    "Demonstrate how perform feature selection using one or more **Wrapper** techniques.\n",
    "\n",
    "# The End <a name=\"end\"></a>"
   ]
  },
  {
   "cell_type": "code",
   "execution_count": null,
   "id": "a13be9ce",
   "metadata": {},
   "outputs": [],
   "source": []
  }
 ],
 "metadata": {
  "kernelspec": {
   "display_name": "Python 3.8.5 ('base')",
   "language": "python",
   "name": "python3"
  },
  "language_info": {
   "codemirror_mode": {
    "name": "ipython",
    "version": 3
   },
   "file_extension": ".py",
   "mimetype": "text/x-python",
   "name": "python",
   "nbconvert_exporter": "python",
   "pygments_lexer": "ipython3",
   "version": "3.8.5"
  },
  "vscode": {
   "interpreter": {
    "hash": "0158f461a1e426a45f9154fbe11f5f157d30f8e5e8870a555ead6699a1a69202"
   }
  }
 },
 "nbformat": 4,
 "nbformat_minor": 5
}
