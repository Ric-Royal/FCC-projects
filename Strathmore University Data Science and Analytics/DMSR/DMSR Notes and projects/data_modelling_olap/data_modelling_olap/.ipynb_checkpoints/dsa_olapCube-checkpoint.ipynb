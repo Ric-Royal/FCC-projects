{
 "cells": [
  {
   "cell_type": "markdown",
   "metadata": {
    "slideshow": {
     "slide_type": "notes"
    },
    "tags": [
     "olap"
    ]
   },
   "source": [
    "# Agenda\n",
    "Analytical data modeling involves designing a data model that supports reporting and analytics. Analytics can be defined as the **the systematic computational analysis of data.** The chief aim of analytical data modeling is to interprete and communicate meaningful patterns extracted from a data set and apply them towards effective decision making. \n",
    "\n",
    "It is important for analyst to shift his point of view from **transactional operations on data (i.e. in OLTP)** to **analytical operations on data (i.e. in OLAP).** Analytics and Reporting are performed on data models (i.e. ORM, Cube), which are constructed on top of (mostly) transactional datasets. \n",
    "\n",
    "In this exercise, we demonstrate how to prepare data for both ORM and Cube modeling. We describe a few OLAP operations that can be implemented on a Cube model. The content for the remainder of this guide is as follows.\n",
    "\n",
    "## Table of Contents\n",
    "1. [Python Libraries](#libraries)  \n",
    "    1.1 [Installing Python Libraries](#lib-install)  \n",
    "    1.2 [Importing Python Libraries](#lib-import)  \n",
    "2. [Preparing Data](#data-set)  \n",
    "    2.1 [Loading Data into Database](#loading)  \n",
    "    2.2 [ORM Modeling](#orm)  \n",
    "3. [OLAP Cube Operations](#olap)  \n",
    "    3.1 [Cube Modeling](#cube)  \n",
    "    3.2 [Creating Workspace](#workspace)  \n",
    "    3.3 [Data Aggregation](#aggregation)  \n",
    "    3.4 [Drill Down](#drill-down)  \n",
    "    3.5 [Slicing and Dicing](#slice-dice)  \n",
    "4. [Exercise: Multidimensional Modeling on a UCI Data set](#exercise)  \n",
    "\n",
    "\n",
    "\n",
    "# 1. Python Libraries <a name=\"libraries\"></a>\n",
    "## 1.1 Install Python libraries <a name=\"lib-install\"></a>\n",
    "This exercise will requires the following **Python** libraries:\n",
    "\n",
    "<ul>\n",
    "    <li><strong>cubes:</strong> a light-weight Python framework for OLAP</li>\n",
    "    <li><strong>SQLAlchemy:</strong> a Python SQL Toolkit and Object Relational Mapper for ORM</li>\n",
    "</ul>"
   ]
  },
  {
   "cell_type": "code",
   "execution_count": 1,
   "metadata": {
    "slideshow": {
     "slide_type": "slide"
    },
    "tags": []
   },
   "outputs": [
    {
     "name": "stdout",
     "output_type": "stream",
     "text": [
      "Requirement already satisfied: cubes in c:\\users\\rick-royal\\anaconda3\\lib\\site-packages (1.1)\n",
      "Requirement already satisfied: expressions>=0.2.3 in c:\\users\\rick-royal\\anaconda3\\lib\\site-packages (from cubes) (0.2.3)\n",
      "Requirement already satisfied: python-dateutil in c:\\users\\rick-royal\\anaconda3\\lib\\site-packages (from cubes) (2.8.1)\n",
      "Requirement already satisfied: jsonschema in c:\\users\\rick-royal\\anaconda3\\lib\\site-packages (from cubes) (3.2.0)\n",
      "Requirement already satisfied: grako>=3.9.3 in c:\\users\\rick-royal\\anaconda3\\lib\\site-packages (from expressions>=0.2.3->cubes) (3.99.9)\n",
      "Requirement already satisfied: six>=1.5 in c:\\users\\rick-royal\\anaconda3\\lib\\site-packages (from python-dateutil->cubes) (1.15.0)\n",
      "Requirement already satisfied: attrs>=17.4.0 in c:\\users\\rick-royal\\anaconda3\\lib\\site-packages (from jsonschema->cubes) (20.3.0)\n",
      "Requirement already satisfied: setuptools in c:\\users\\rick-royal\\anaconda3\\lib\\site-packages (from jsonschema->cubes) (50.3.1.post20201107)\n",
      "Requirement already satisfied: pyrsistent>=0.14.0 in c:\\users\\rick-royal\\anaconda3\\lib\\site-packages (from jsonschema->cubes) (0.17.3)\n",
      "Requirement already satisfied: sqlalchemy==0.7.4 in c:\\users\\rick-royal\\anaconda3\\lib\\site-packages (0.7.4)\n"
     ]
    }
   ],
   "source": [
    "# Installing Libraries (if not installed)\n",
    "!pip3 install cubes\n",
    "!pip3 install sqlalchemy==0.7.4"
   ]
  },
  {
   "cell_type": "markdown",
   "metadata": {},
   "source": [
    "## 1.2 Import libraries <a name=\"lib-import\"></a>"
   ]
  },
  {
   "cell_type": "code",
   "execution_count": 2,
   "metadata": {},
   "outputs": [
    {
     "ename": "AttributeError",
     "evalue": "module 'time' has no attribute 'clock'",
     "output_type": "error",
     "traceback": [
      "\u001b[1;31m---------------------------------------------------------------------------\u001b[0m",
      "\u001b[1;31mAttributeError\u001b[0m                            Traceback (most recent call last)",
      "\u001b[1;32m<ipython-input-2-cee70acc3631>\u001b[0m in \u001b[0;36m<module>\u001b[1;34m\u001b[0m\n\u001b[0;32m      1\u001b[0m \u001b[1;31m# Importing Libraries\u001b[0m\u001b[1;33m\u001b[0m\u001b[1;33m\u001b[0m\u001b[1;33m\u001b[0m\u001b[0m\n\u001b[0;32m      2\u001b[0m \u001b[1;33m\u001b[0m\u001b[0m\n\u001b[1;32m----> 3\u001b[1;33m \u001b[1;32mfrom\u001b[0m \u001b[0msqlalchemy\u001b[0m \u001b[1;32mimport\u001b[0m \u001b[0mcreate_engine\u001b[0m\u001b[1;33m\u001b[0m\u001b[1;33m\u001b[0m\u001b[0m\n\u001b[0m\u001b[0;32m      4\u001b[0m \u001b[1;32mfrom\u001b[0m \u001b[0msqlalchemy\u001b[0m\u001b[1;33m.\u001b[0m\u001b[0morm\u001b[0m \u001b[1;32mimport\u001b[0m \u001b[0msessionmaker\u001b[0m\u001b[1;33m,\u001b[0m \u001b[0mscoped_session\u001b[0m\u001b[1;33m\u001b[0m\u001b[1;33m\u001b[0m\u001b[0m\n\u001b[0;32m      5\u001b[0m \u001b[1;33m\u001b[0m\u001b[0m\n",
      "\u001b[1;32m~\\anaconda3\\lib\\site-packages\\sqlalchemy\\__init__.py\u001b[0m in \u001b[0;36m<module>\u001b[1;34m\u001b[0m\n\u001b[0;32m     10\u001b[0m \u001b[1;32mimport\u001b[0m \u001b[0msqlalchemy\u001b[0m\u001b[1;33m.\u001b[0m\u001b[0mexc\u001b[0m \u001b[1;32mas\u001b[0m \u001b[0mexceptions\u001b[0m\u001b[1;33m\u001b[0m\u001b[1;33m\u001b[0m\u001b[0m\n\u001b[0;32m     11\u001b[0m \u001b[1;33m\u001b[0m\u001b[0m\n\u001b[1;32m---> 12\u001b[1;33m from sqlalchemy.sql import (\n\u001b[0m\u001b[0;32m     13\u001b[0m     \u001b[0malias\u001b[0m\u001b[1;33m,\u001b[0m\u001b[1;33m\u001b[0m\u001b[1;33m\u001b[0m\u001b[0m\n\u001b[0;32m     14\u001b[0m     \u001b[0mand_\u001b[0m\u001b[1;33m,\u001b[0m\u001b[1;33m\u001b[0m\u001b[1;33m\u001b[0m\u001b[0m\n",
      "\u001b[1;32m~\\anaconda3\\lib\\site-packages\\sqlalchemy\\sql\\__init__.py\u001b[0m in \u001b[0;36m<module>\u001b[1;34m\u001b[0m\n\u001b[0;32m      5\u001b[0m \u001b[1;31m# the MIT License: http://www.opensource.org/licenses/mit-license.php\u001b[0m\u001b[1;33m\u001b[0m\u001b[1;33m\u001b[0m\u001b[1;33m\u001b[0m\u001b[0m\n\u001b[0;32m      6\u001b[0m \u001b[1;33m\u001b[0m\u001b[0m\n\u001b[1;32m----> 7\u001b[1;33m from sqlalchemy.sql.expression import (\n\u001b[0m\u001b[0;32m      8\u001b[0m     \u001b[0mAlias\u001b[0m\u001b[1;33m,\u001b[0m\u001b[1;33m\u001b[0m\u001b[1;33m\u001b[0m\u001b[0m\n\u001b[0;32m      9\u001b[0m     \u001b[0mClauseElement\u001b[0m\u001b[1;33m,\u001b[0m\u001b[1;33m\u001b[0m\u001b[1;33m\u001b[0m\u001b[0m\n",
      "\u001b[1;32m~\\anaconda3\\lib\\site-packages\\sqlalchemy\\sql\\expression.py\u001b[0m in \u001b[0;36m<module>\u001b[1;34m\u001b[0m\n\u001b[0;32m     30\u001b[0m \u001b[1;32mfrom\u001b[0m \u001b[0moperator\u001b[0m \u001b[1;32mimport\u001b[0m \u001b[0mattrgetter\u001b[0m\u001b[1;33m\u001b[0m\u001b[1;33m\u001b[0m\u001b[0m\n\u001b[0;32m     31\u001b[0m \u001b[1;33m\u001b[0m\u001b[0m\n\u001b[1;32m---> 32\u001b[1;33m \u001b[1;32mfrom\u001b[0m \u001b[0msqlalchemy\u001b[0m \u001b[1;32mimport\u001b[0m \u001b[0mutil\u001b[0m\u001b[1;33m,\u001b[0m \u001b[0mexc\u001b[0m\u001b[1;33m\u001b[0m\u001b[1;33m\u001b[0m\u001b[0m\n\u001b[0m\u001b[0;32m     33\u001b[0m \u001b[1;32mfrom\u001b[0m \u001b[0msqlalchemy\u001b[0m\u001b[1;33m.\u001b[0m\u001b[0msql\u001b[0m \u001b[1;32mimport\u001b[0m \u001b[0moperators\u001b[0m\u001b[1;33m\u001b[0m\u001b[1;33m\u001b[0m\u001b[0m\n\u001b[0;32m     34\u001b[0m \u001b[1;32mfrom\u001b[0m \u001b[0msqlalchemy\u001b[0m\u001b[1;33m.\u001b[0m\u001b[0msql\u001b[0m\u001b[1;33m.\u001b[0m\u001b[0moperators\u001b[0m \u001b[1;32mimport\u001b[0m \u001b[0mOperators\u001b[0m\u001b[1;33m,\u001b[0m \u001b[0mColumnOperators\u001b[0m\u001b[1;33m\u001b[0m\u001b[1;33m\u001b[0m\u001b[0m\n",
      "\u001b[1;32m~\\anaconda3\\lib\\site-packages\\sqlalchemy\\util\\__init__.py\u001b[0m in \u001b[0;36m<module>\u001b[1;34m\u001b[0m\n\u001b[0;32m      5\u001b[0m \u001b[1;31m# the MIT License: http://www.opensource.org/licenses/mit-license.php\u001b[0m\u001b[1;33m\u001b[0m\u001b[1;33m\u001b[0m\u001b[1;33m\u001b[0m\u001b[0m\n\u001b[0;32m      6\u001b[0m \u001b[1;33m\u001b[0m\u001b[0m\n\u001b[1;32m----> 7\u001b[1;33m \u001b[1;32mfrom\u001b[0m \u001b[1;33m.\u001b[0m\u001b[0mcompat\u001b[0m \u001b[1;32mimport\u001b[0m \u001b[0mcallable\u001b[0m\u001b[1;33m,\u001b[0m \u001b[0mcmp\u001b[0m\u001b[1;33m,\u001b[0m \u001b[0mreduce\u001b[0m\u001b[1;33m,\u001b[0m \u001b[0mdefaultdict\u001b[0m\u001b[1;33m,\u001b[0m \u001b[0mpy25_dict\u001b[0m\u001b[1;33m,\u001b[0m\u001b[0;31m \u001b[0m\u001b[0;31m\\\u001b[0m\u001b[1;33m\u001b[0m\u001b[1;33m\u001b[0m\u001b[0m\n\u001b[0m\u001b[0;32m      8\u001b[0m     \u001b[0mthreading\u001b[0m\u001b[1;33m,\u001b[0m \u001b[0mpy3k\u001b[0m\u001b[1;33m,\u001b[0m \u001b[0mjython\u001b[0m\u001b[1;33m,\u001b[0m \u001b[0mpypy\u001b[0m\u001b[1;33m,\u001b[0m \u001b[0mwin32\u001b[0m\u001b[1;33m,\u001b[0m \u001b[0mset_types\u001b[0m\u001b[1;33m,\u001b[0m \u001b[0mbuffer\u001b[0m\u001b[1;33m,\u001b[0m \u001b[0mpickle\u001b[0m\u001b[1;33m,\u001b[0m\u001b[0;31m \u001b[0m\u001b[0;31m\\\u001b[0m\u001b[1;33m\u001b[0m\u001b[1;33m\u001b[0m\u001b[0m\n\u001b[0;32m      9\u001b[0m     \u001b[0mupdate_wrapper\u001b[0m\u001b[1;33m,\u001b[0m \u001b[0mpartial\u001b[0m\u001b[1;33m,\u001b[0m \u001b[0mmd5_hex\u001b[0m\u001b[1;33m,\u001b[0m \u001b[0mdecode_slice\u001b[0m\u001b[1;33m,\u001b[0m \u001b[0mdottedgetter\u001b[0m\u001b[1;33m,\u001b[0m\u001b[0;31m\\\u001b[0m\u001b[1;33m\u001b[0m\u001b[1;33m\u001b[0m\u001b[0m\n",
      "\u001b[1;32m~\\anaconda3\\lib\\site-packages\\sqlalchemy\\util\\compat.py\u001b[0m in \u001b[0;36m<module>\u001b[1;34m\u001b[0m\n\u001b[0;32m    189\u001b[0m \u001b[1;32mimport\u001b[0m \u001b[0mtime\u001b[0m\u001b[1;33m\u001b[0m\u001b[1;33m\u001b[0m\u001b[0m\n\u001b[0;32m    190\u001b[0m \u001b[1;32mif\u001b[0m \u001b[0mwin32\u001b[0m \u001b[1;32mor\u001b[0m \u001b[0mjython\u001b[0m\u001b[1;33m:\u001b[0m\u001b[1;33m\u001b[0m\u001b[1;33m\u001b[0m\u001b[0m\n\u001b[1;32m--> 191\u001b[1;33m     \u001b[0mtime_func\u001b[0m \u001b[1;33m=\u001b[0m \u001b[0mtime\u001b[0m\u001b[1;33m.\u001b[0m\u001b[0mclock\u001b[0m\u001b[1;33m\u001b[0m\u001b[1;33m\u001b[0m\u001b[0m\n\u001b[0m\u001b[0;32m    192\u001b[0m \u001b[1;32melse\u001b[0m\u001b[1;33m:\u001b[0m\u001b[1;33m\u001b[0m\u001b[1;33m\u001b[0m\u001b[0m\n\u001b[0;32m    193\u001b[0m     \u001b[0mtime_func\u001b[0m \u001b[1;33m=\u001b[0m \u001b[0mtime\u001b[0m\u001b[1;33m.\u001b[0m\u001b[0mtime\u001b[0m\u001b[1;33m\u001b[0m\u001b[1;33m\u001b[0m\u001b[0m\n",
      "\u001b[1;31mAttributeError\u001b[0m: module 'time' has no attribute 'clock'"
     ]
    }
   ],
   "source": [
    "# Importing Libraries\n",
    "\n",
    "from sqlalchemy import create_engine\n",
    "from sqlalchemy.orm import sessionmaker, scoped_session\n",
    "\n",
    "from cubes.tutorial.sql import create_table_from_csv\n",
    "from cubes.compat import ConfigParser\n",
    "from cubes import Workspace, Cell, PointCut\n"
   ]
  },
  {
   "cell_type": "markdown",
   "metadata": {
    "tags": []
   },
   "source": [
    "# 2. Preparing Data <a name=\"data-set\"></a>\n",
    "In this section, we demostrate how to prepare data for ORM and Cube modeling. First, we create a SQLite database and populate it with an example dataset (IBRD Balance Sheet) taken from [The World Bank](https://finances.worldbank.org/Accounting-and-Control/IBRD-Balance-Sheet-FY2010/e8yz-96c6). This data is saved in [data.csv](data.csv), which will be the **data source** for this exercise.\n",
    "\n",
    "Some parts of this exercise was adopted from:\n",
    "1. [Cubes - OLAP Framework](https://pythonhosted.org/cubes/index.html)\n",
    "2. [DataBrewery/cubes](https://github.com/DataBrewery/cubes/tree/master/examples/hello_world)\n",
    "\n",
    "## 2.1 Loading Data into Database <a name=\"loading\"></a>"
   ]
  },
  {
   "cell_type": "code",
   "execution_count": 3,
   "metadata": {},
   "outputs": [],
   "source": [
    "# Prepare SQL data in memory\n",
    "\n",
    "FACT_TABLE = \"irbd_balance\"\n",
    "\n",
    "engine = create_engine('sqlite:///data.sqlite')\n",
    "create_table_from_csv(engine,\n",
    "                      \"data.csv\",\n",
    "                      table_name=FACT_TABLE,\n",
    "                      fields=[\n",
    "                            (\"category\", \"string\"),\n",
    "                            (\"category_label\", \"string\"),\n",
    "                            (\"subcategory\", \"string\"),\n",
    "                            (\"subcategory_label\", \"string\"),\n",
    "                            (\"line_item\", \"string\"),\n",
    "                            (\"year\", \"integer\"),\n",
    "                            (\"amount\", \"integer\")],\n",
    "                      create_id=True\n",
    "                  )"
   ]
  },
  {
   "cell_type": "markdown",
   "metadata": {},
   "source": [
    "## 2.2 ORM Modeling <a name=\"orm\"></a>\n",
    "In this section, we demonstrate how to use the **SQLAlchemy ORM Python API** to construct and execute ORM queries (*i.e SELECT, INSERT, UPDATE, DELETE*).\n",
    "\n",
    "Some parts of this exercise was adopted from [SQLAlchemy Documentation](https://docs.sqlalchemy.org/en/14/orm/tutorial.html).\n"
   ]
  },
  {
   "cell_type": "code",
   "execution_count": 4,
   "metadata": {
    "tags": []
   },
   "outputs": [
    {
     "name": "stdout",
     "output_type": "stream",
     "text": [
      "Assets                     dfb      2010      1581\n",
      "Assets                     dfb      2009      2380\n",
      "Assets                     dfb      2010       222\n",
      "Assets                     dfb      2009       664\n",
      "Assets                       i      2010     36012\n",
      "Assets                       i      2009     41012\n",
      "Assets                       s      2010       289\n",
      "Assets                       s      2009        33\n",
      "Assets                      nn      2010      1123\n",
      "Assets                      nn      2009      1202\n",
      "Assets                      da      2010     13249\n",
      "Assets                      da      2009     18467\n",
      "Assets                      da      2010     17633\n",
      "Assets                      da      2009     19559\n",
      "Assets                      da      2010     87457\n",
      "Assets                      da      2009     82793\n",
      "Assets                      da      2010      3287\n",
      "Assets                      da      2009      2246\n",
      "Assets                     rcv      2010       171\n",
      "Assets                     rcv      2009       176\n",
      "Assets                    orcv      2010        47\n",
      "Assets                    orcv      2009        95\n",
      "Assets                    orcv      2010       764\n",
      "Assets                    orcv      2009       889\n",
      "Assets                      lo      2010    118104\n"
     ]
    }
   ],
   "source": [
    "# Implementing a SQL ORM (Object Relational Model)\n",
    "\n",
    "DBSession = scoped_session(sessionmaker(bind=engine))\n",
    "session = DBSession()\n",
    "\n",
    "result = session.execute(\"SELECT * FROM irbd_balance LIMIT 25\")\n",
    "#result = session.execute(\"SELECT * FROM irbd_balance WHERE category='e'\")\n",
    "\n",
    "\n",
    "for row in result.fetchall():\n",
    "    # print(row)\n",
    "    print(\"%-20s%10s%10d%10d\" % (row.category_label,\n",
    "                              row.subcategory,\n",
    "                              #row.line_item,\n",
    "                              row.year,\n",
    "                              row.amount,\n",
    "                              ))"
   ]
  },
  {
   "cell_type": "markdown",
   "metadata": {},
   "source": [
    "# 3. OLAP Cube Operations <a name=\"olap\"></a>\n",
    "In this section, we apply a **Cube model** on the data prepared in the section above and we use the Cube model to perform a few OLAP operations (*i.e. drill-down, slicing, dicing*)\n",
    "\n",
    "## 3.1 Cube Modeling <a name=\"cube\"></a>\n",
    "Cube modeling allows us to descibe a **logical model** from an analyst's perspective (i.e. data how they are being measured, aggregated and reported). This model is independent of physical implementation of data. For example, the logical model enable users to:\n",
    "\n",
    "1. see the data from the business perspective.\n",
    "2. hide physical structure of the data (“how application’s use it”).\n",
    "3. specify OLAP dimension hierarchies of attributes.\n",
    "4. provide more descriptive attribute labels for display in the applications or reports.\n",
    "5. transparent localization of metadata and data.\n",
    "\n",
    "The logical model is described using **model metadata dictionary**. This dictionary is composed of:\n",
    "1. logical part,\n",
    "2. physical part and,\n",
    "3. any other additional information of the logical model.\n",
    "\n",
    "![Logical Model](./img/logical_model.png)\n",
    "\n",
    "The logical model is implemented using *JSON*. In this exercise, we use an example model [model.json](model.json)\n",
    "\n",
    "### Reference (For more Info)\n",
    "* [Logical Model and Metadata](https://pythonhosted.org/cubes/model.html)\n",
    "\n",
    "\n"
   ]
  },
  {
   "cell_type": "markdown",
   "metadata": {},
   "source": [
    "## 3.2 Creating Workspace <a name=\"workspace\"></a>\n",
    "Everything in Cubes happens in an **analytical workspace**. A **workspace** contains cubes and maintains connections to the data stores (with cube data). The workspace properties are specified in a configuration file [slicer.ini](slicer.ini) (default name). In the configuration file, we specify at least the following items:\n",
    "\n",
    "* data store (i.e. in this exercise - it is the SQLite)\n",
    "* Cube model (created in the section above)\n",
    "* etc ...\n",
    "\n",
    "After creating a **workspace**, we need a **AggregationBrowser -** an object that allows us to perform multi-dimensional data (or Cube) queries and operations such as:\n",
    "\n",
    "* aggregation, \n",
    "* slicing, \n",
    "* dicing, \n",
    "* browsing\n",
    "\n",
    "\n"
   ]
  },
  {
   "cell_type": "code",
   "execution_count": 5,
   "metadata": {},
   "outputs": [],
   "source": [
    "# Create a workspace\n",
    "\n",
    "conf = ConfigParser()\n",
    "conf.read('slicer.ini')\n",
    "workspace = Workspace(config=conf)"
   ]
  },
  {
   "cell_type": "code",
   "execution_count": 6,
   "metadata": {},
   "outputs": [],
   "source": [
    "# Get a browser\n",
    "\n",
    "browser = workspace.browser('irbd_balance')"
   ]
  },
  {
   "cell_type": "markdown",
   "metadata": {},
   "source": [
    "## 3.3 Data Aggregation  <a name=\"aggregation\"></a>\n",
    "**Data aggregation** is a query in a multi-dimensional data space and it aims to compute/consolidate data for one or more dimensions to a measure (i.e. sum).\n",
    "\n",
    "<img src=\"./img/aggregate.png\" alt=\"drawing\" width=\"400\"/>\n",
    "\n",
    "Image Source: [Slideshare](https://www.slideshare.net/pommurajopt/data-pre-processing-31974618)\n"
   ]
  },
  {
   "cell_type": "code",
   "execution_count": 7,
   "metadata": {},
   "outputs": [
    {
     "data": {
      "text/plain": [
       "{'amount_sum': 1116860, 'double_amount_sum': 2233720, 'record_count': 62}"
      ]
     },
     "execution_count": 7,
     "metadata": {},
     "output_type": "execute_result"
    }
   ],
   "source": [
    "# Play with aggregates\n",
    "\n",
    "result = browser.aggregate()\n",
    "result.summary"
   ]
  },
  {
   "cell_type": "markdown",
   "metadata": {},
   "source": [
    "## 3.4 Drill Down <a name=\"drill-down\"></a>\n",
    "A way of viewing related items of a Dimension as defined in a Hierarchy by expanding Members to access a more detailed data range; put simply, this means displaying Child Members associated with a specific Parent Member or Aggregate Member within a defined Hierarchy.\n",
    "\n",
    "<img src=\"./img/drill_down.png\" alt=\"drawing\" width=\"600\"/>\n",
    "\n",
    "Image source: [Tutorialspoint](https://www.tutorialspoint.com/dwh/dwh_olap.htm)"
   ]
  },
  {
   "cell_type": "code",
   "execution_count": 8,
   "metadata": {},
   "outputs": [
    {
     "name": "stdout",
     "output_type": "stream",
     "text": [
      "Drill-down by Item\n",
      "Assets                      32    558430   1116860\n",
      "Equity                       8     77592    155184\n",
      "Liabilities                 22    480838    961676\n",
      "\n",
      " ---- \n",
      "\n",
      "Drill-down by Year\n",
      "2009                        31    550840   1101680\n",
      "2010                        31    566020   1132040\n"
     ]
    }
   ],
   "source": [
    "# Drill-down by item dimension\n",
    "result = browser.aggregate(drilldown=[\"item\"])\n",
    "#print(result)\n",
    "print(\"Drill-down by Item\")\n",
    "for row in result.table_rows(\"item\"):\n",
    "    print(\"%-20s%10d%10d%10d\" % ( row.label,\n",
    "                              row.record[\"record_count\"],\n",
    "                              row.record[\"amount_sum\"],\n",
    "                              row.record[\"double_amount_sum\"],\n",
    "                              ))\n",
    "print(\"\\n ---- \\n\")\n",
    "  \n",
    "# Drill-down by year dimension\n",
    "result = browser.aggregate(drilldown=[\"year\"])\n",
    "print(\"Drill-down by Year\")\n",
    "for row in result.table_rows(\"year\"):\n",
    "    print(\"%-20s%10d%10d%10d\" % (row.label,\n",
    "                              row.record[\"record_count\"],\n",
    "                              row.record[\"amount_sum\"],\n",
    "                              row.record[\"double_amount_sum\"],\n",
    "                              ))"
   ]
  },
  {
   "cell_type": "markdown",
   "metadata": {},
   "source": [
    "## 3.5 Slicing and Dicing <a name=\"slice-dice\"></a>\n",
    "\n",
    "### 3.5.1 Slicing\n",
    "A Slice represents two-dimensional view of an OLAP Cube that arranges data in a grid, similar to a spreadsheet; a Slice functions much like a report or a query in an RDBMS. In this exercise, a slice is implemented using the **Cut object**.\n",
    "\n",
    "<img src=\"./img/slicing.png\" alt=\"drawing\" width=\"500\"/>\n",
    "\n",
    "\n",
    "### 3.5.2 Dicing\n",
    "The dice operation produces a subcube by allowing the analyst to pick specific values of multiple dimensions. In this exercise, a dice is implemented using the **Cell object**.\n",
    "\n",
    "<img src=\"./img/dicing.png\" alt=\"drawing\" width=\"500\"/>\n",
    "\n",
    "\n",
    "Image sources: [Tutorialspoint](https://www.tutorialspoint.com/dwh/dwh_olap.htm)\n",
    "\n",
    "### Reference (More Info)\n",
    "* [Slicing and Dicing](https://pythonhosted.org/cubes/slicing_and_dicing.html)"
   ]
  },
  {
   "cell_type": "code",
   "execution_count": 9,
   "metadata": {},
   "outputs": [
    {
     "name": "stdout",
     "output_type": "stream",
     "text": [
      "Slice: Year 2010\n",
      "{'amount_sum': 566020, 'double_amount_sum': 1132040, 'record_count': 31}\n",
      "\n",
      "\n",
      " ----------- \n",
      "\n",
      "\n",
      "Dice: Item 'e' for Year 2009\n",
      "{'amount_sum': 40037, 'double_amount_sum': 80074, 'record_count': 4}\n"
     ]
    }
   ],
   "source": [
    "# Slice -> Cut\n",
    "# ------------\n",
    "\n",
    "# Slice (or cut) for the Year 2010\n",
    "    \n",
    "cut_1 = PointCut(\"year\", [2010])\n",
    "\n",
    "\n",
    "# Dice (or cut) for Item 'e' for the year 2009\n",
    "cut_2 = [ \n",
    "    PointCut(\"item\", [\"e\"]), \n",
    "    PointCut(\"year\", [2009])\n",
    "]\n",
    "\n",
    "# Dice -> Cell\n",
    "cell_1 = Cell(browser.cube, cuts = [cut_1])\n",
    "cell_2 = Cell(browser.cube, cuts = cut_2)\n",
    "\n",
    "\n",
    "print(\"Slice: Year 2010\")\n",
    "result = browser.aggregate(cell_1)\n",
    "print(result.summary)\n",
    "\n",
    "print(\"\\n\\n ----------- \\n\\n\")\n",
    "\n",
    "\n",
    "print(\"Dice: Item 'e' for Year 2009\")\n",
    "result = browser.aggregate(cell_2)\n",
    "print(result.summary)\n",
    "\n",
    "\n",
    "# print(result)\n",
    "#for row in result.table_rows(\"year\"):\n",
    "#    print(\"%-20s%10d%10d%10d\" % ( row.label,\n",
    "#                              row.record[\"record_count\"],\n",
    "#                              row.record[\"amount_sum\"],\n",
    "#                              row.record[\"double_amount_sum\"],\n",
    "#                              ))\n",
    "    \n",
    "# cube = workspace.cube(\"irbd_balance\")\n",
    "# result = browser.aggregate(cell, drilldown=[\"item\"])\n",
    "# for row in result.table_rows(\"item\"):\n",
    "#    print(\"%-20s%10d%10d%10d\" % ( row.label,\n",
    "#                              row.record[\"record_count\"],\n",
    "#                              row.record[\"amount_sum\"],\n",
    "#                              row.record[\"double_amount_sum\"],\n",
    "#                              ))"
   ]
  },
  {
   "cell_type": "markdown",
   "metadata": {},
   "source": [
    "# 4. Exercise: Multidimensional Modeling on a UCI Data set <a name=\"exercise\"></a>\n",
    "The [PRSA_Data.csv](PRSA_Data.csv) is retrieved from [UCI Data Repository](https://archive.ics.uci.edu/ml/datasets/Beijing+Multi-Site+Air-Quality+Data). The data (**Beijing Multi-Site Air-Quality Data Data Set**): is hourly data set considers 6 main air pollutants and 6 relevant meteorological variables at multiple sites in Beijing. Using this data set:\n",
    "\n",
    "1. Prepare the data (load into an SQLite database)\n",
    "2. design a Cube model with dimensions: **Wind direction (wd)**, **Year** and **Date (aggregates Year, Month and Day)**.\n",
    "3. use the Cube to perform OLAP operations (i.e. Drill-down, Slicing, Dicing)"
   ]
  },
  {
   "cell_type": "code",
   "execution_count": null,
   "metadata": {},
   "outputs": [],
   "source": []
  }
 ],
 "metadata": {
  "kernelspec": {
   "display_name": "Python 3",
   "language": "python",
   "name": "python3"
  },
  "language_info": {
   "codemirror_mode": {
    "name": "ipython",
    "version": 3
   },
   "file_extension": ".py",
   "mimetype": "text/x-python",
   "name": "python",
   "nbconvert_exporter": "python",
   "pygments_lexer": "ipython3",
   "version": "3.8.5"
  }
 },
 "nbformat": 4,
 "nbformat_minor": 5
}
