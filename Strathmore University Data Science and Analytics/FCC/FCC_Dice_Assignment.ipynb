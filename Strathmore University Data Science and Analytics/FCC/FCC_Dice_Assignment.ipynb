{
 "cells": [
  {
   "cell_type": "code",
   "execution_count": 5,
   "metadata": {},
   "outputs": [],
   "source": [
    "import random"
   ]
  },
  {
   "cell_type": "code",
   "execution_count": 5,
   "metadata": {},
   "outputs": [],
   "source": [
    "def print_rules():\n",
    "    welcome = print(\"Hello players, Welcome to Dice-Life:\\n Rules\\n 1. The game can be played by more than 1 player.\\n 2. The players are allowed to roll the die as much as they want. \\n 3. If the rolled die lands on any number between 1 and 5 inclusive, you earn the points and are allowed to roll the die again. \\n 4. If the rolled die lands on six, you get zero points no matter the points you had gained in previous rolls and the next player is allowed to roll the die. \\n\\n The game starts now.\")\n",
    "    return welcome"
   ]
  },
  {
   "cell_type": "code",
   "execution_count": 6,
   "metadata": {},
   "outputs": [
    {
     "name": "stdout",
     "output_type": "stream",
     "text": [
      "Hello players, Welcome to Dice-Life:\n",
      " Rules\n",
      " 1. The game can be played by more than 1 player.\n",
      " 2. The players are allowed to roll the die as much as they want. \n",
      " 3. If the rolled die lands on any number between 1 and 5 inclusive, you earn the points and are allowed to roll the die again. \n",
      " 4. If the rolled die lands on six, you get zero points no matter the points you had gained in previous rolls and the next player is allowed to roll the die. \n",
      "\n",
      " The game starts now.\n"
     ]
    }
   ],
   "source": [
    "print_rules()"
   ]
  },
  {
   "cell_type": "code",
   "execution_count": 7,
   "metadata": {},
   "outputs": [],
   "source": [
    "# Function for entering the number of players and their names\n",
    "# Assigning variables to the individual players remaining\n",
    "def no_of_players():\n",
    "    players_no = int(input(\"Enter the number of players:\"))\n",
    "    \n",
    "    plyrs_no_initial = 1\n",
    "    while plyrs_no_initial <= players_no:\n",
    "        player_name = input(\"Player name:\")   \n",
    "        name = print(\"Player\",plyrs_no_initial, \"is\",player_name)\n",
    "        plyrs_no_initial = plyrs_no_initial + 1\n",
    "        \n",
    "        continue\n",
    "        plyrs_no_initial[0] = player_name\n",
    "    return name"
   ]
  },
  {
   "cell_type": "code",
   "execution_count": 8,
   "metadata": {},
   "outputs": [
    {
     "name": "stdout",
     "output_type": "stream",
     "text": [
      "Player 1 is ric\n",
      "Player 2 is rita\n"
     ]
    }
   ],
   "source": [
    "no_of_players()"
   ]
  },
  {
   "cell_type": "code",
   "execution_count": 9,
   "metadata": {},
   "outputs": [],
   "source": [
    "# function for rolling the die. Genrates random numbers between 1 and 6\n",
    "def roll():\n",
    "    die_roll = random.randint(1,6)\n",
    "    return die_roll"
   ]
  },
  {
   "cell_type": "code",
   "execution_count": 10,
   "metadata": {},
   "outputs": [
    {
     "data": {
      "text/plain": [
       "5"
      ]
     },
     "execution_count": 10,
     "metadata": {},
     "output_type": "execute_result"
    }
   ],
   "source": [
    "roll()"
   ]
  },
  {
   "cell_type": "code",
   "execution_count": 11,
   "metadata": {},
   "outputs": [],
   "source": [
    "\n",
    "# def roll_option():\n",
    "#     print(\"Do you want to roll again?\")\n",
    "#     roll_consent = input(\"Enter Y/y for yes and n/N for no:\")\n",
    "#     if roll_consent[0] == \"y\":\n",
    "#         print(\"roll again\")\n",
    "#     elif roll_consent[0] == \"Y\":\n",
    "#         print(\"roll again\")\n",
    "#     elif roll_consent[0] == \"n\":\n",
    "#         print(\"Next player roll the dice\")\n",
    "#     elif roll_consent[0] == \"N\":\n",
    "#         print(\"Next player roll the dice\")    \n",
    "#     else:\n",
    "#         print(\"Next player roll the dice\")\n",
    "#     return roll_consent"
   ]
  },
  {
   "cell_type": "code",
   "execution_count": 12,
   "metadata": {},
   "outputs": [],
   "source": [
    "# Ask user if they want to roll  again\n",
    "def roll_option():\n",
    "    while True:\n",
    "        try:\n",
    "            \n",
    "            print(\"Do you want to roll again?\")\n",
    "            roll_consent = input(\"Enter Y/y for yes and n/N for no:\")\n",
    "            if roll_consent[0] == \"y\":\n",
    "                print(\"roll again\")\n",
    "                roll()\n",
    "                continue\n",
    "            elif roll_consent[0] == \"Y\":\n",
    "                print(\"roll again\")\n",
    "                roll()\n",
    "                continue\n",
    "            elif roll_consent[0] == \"n\":\n",
    "                print(\"Next player roll the dice\")\n",
    "                break\n",
    "            elif roll_consent[0] == \"N\":\n",
    "                print(\"Next player roll the dice\")\n",
    "                break    \n",
    "            #else:\n",
    "                #print(\"Next player roll the dice\")\n",
    "        except:\n",
    "            print(\"Please input y/Y for yes and N/n for no\")\n",
    "            continue\n",
    "    return roll_consent"
   ]
  },
  {
   "cell_type": "code",
   "execution_count": 13,
   "metadata": {},
   "outputs": [
    {
     "name": "stdout",
     "output_type": "stream",
     "text": [
      "Do you want to roll again?\n",
      "Next player roll the dice\n"
     ]
    },
    {
     "data": {
      "text/plain": [
       "'n'"
      ]
     },
     "execution_count": 13,
     "metadata": {},
     "output_type": "execute_result"
    }
   ],
   "source": [
    "roll_option()"
   ]
  },
  {
   "cell_type": "code",
   "execution_count": 14,
   "metadata": {},
   "outputs": [],
   "source": [
    "#comp_score = 0"
   ]
  },
  {
   "cell_type": "code",
   "execution_count": 15,
   "metadata": {},
   "outputs": [],
   "source": [
    "# computer move\n",
    "def comp_move(): #comp_score, hum_score\n",
    "    comp_score = 0\n",
    "    while roll() == 6:\n",
    "        print(\"You get 0 points\\n Next player\")\n",
    "        #comp_score = 0\n",
    "        comp_score = comp_score + roll()\n",
    "        print(\"Computer score:\", comp_score)\n",
    "        break\n",
    "    else : #0 < roll() < 6\n",
    "        #comp_score = 0\n",
    "        comp_score = comp_score + roll()\n",
    "        roll_option()\n",
    "        print(\"Computer score:\", comp_score)\n",
    "    # else:\n",
    "    #     #hum_score = 0\n",
    "    #     print(\"Computer score:\", comp_score)\n",
    "    #     #print(\"Human score:\", hum_score)\n",
    "    return comp_score #, hum_score\n",
    "        "
   ]
  },
  {
   "cell_type": "code",
   "execution_count": 10,
   "metadata": {},
   "outputs": [
    {
     "ename": "NameError",
     "evalue": "name 'roll_option' is not defined",
     "output_type": "error",
     "traceback": [
      "\u001b[1;31m---------------------------------------------------------------------------\u001b[0m",
      "\u001b[1;31mNameError\u001b[0m                                 Traceback (most recent call last)",
      "\u001b[1;32m<ipython-input-10-c790c048ea05>\u001b[0m in \u001b[0;36m<module>\u001b[1;34m\u001b[0m\n\u001b[1;32m----> 1\u001b[1;33m \u001b[1;32mif\u001b[0m \u001b[0mroll_option\u001b[0m\u001b[1;33m(\u001b[0m\u001b[1;33m)\u001b[0m \u001b[1;33m==\u001b[0m \u001b[1;34m\"y\"\u001b[0m\u001b[1;33m:\u001b[0m\u001b[1;33m\u001b[0m\u001b[1;33m\u001b[0m\u001b[0m\n\u001b[0m\u001b[0;32m      2\u001b[0m     \u001b[0mnb_trials\u001b[0m \u001b[1;33m=\u001b[0m \u001b[1;36m10000\u001b[0m\u001b[1;33m\u001b[0m\u001b[1;33m\u001b[0m\u001b[0m\n\u001b[0;32m      3\u001b[0m     \u001b[0mtot\u001b[0m \u001b[1;33m=\u001b[0m \u001b[1;36m0\u001b[0m\u001b[1;33m\u001b[0m\u001b[1;33m\u001b[0m\u001b[0m\n\u001b[0;32m      4\u001b[0m \u001b[1;33m\u001b[0m\u001b[0m\n\u001b[0;32m      5\u001b[0m     \u001b[1;32mfor\u001b[0m \u001b[0mi\u001b[0m \u001b[1;32min\u001b[0m \u001b[0mrange\u001b[0m\u001b[1;33m(\u001b[0m\u001b[0mnb_trials\u001b[0m\u001b[1;33m)\u001b[0m\u001b[1;33m:\u001b[0m\u001b[1;33m\u001b[0m\u001b[1;33m\u001b[0m\u001b[0m\n",
      "\u001b[1;31mNameError\u001b[0m: name 'roll_option' is not defined"
     ]
    }
   ],
   "source": [
    "if roll_option() == \"y\":\n",
    "    nb_trials = 10000\n",
    "    tot = 0\n",
    "\n",
    "    for i in range(nb_trials):\n",
    "        sum_value = 0\n",
    "        roll() < 6\n",
    "        while b:\n",
    "            a = random.randint(1,6)\n",
    "            if a >=1:\n",
    "                b = 6\n",
    "            sum_value += a\n",
    "        tot += sum_value \n"
   ]
  },
  {
   "cell_type": "code",
   "execution_count": null,
   "metadata": {},
   "outputs": [],
   "source": [
    "nb_trials = 10000\n",
    "tot = 0\n",
    "\n",
    "for i in range(nb_trials):\n",
    "    sum_value = 0\n",
    "    if roll() < 6:\n",
    "        sum_value += roll()\n",
    "        print(\"Your total is:\", sum_value)\n",
    "        continue\n",
    "    else:\n",
    "        sum_value = sum_value\n",
    "        print(\"Your total is:\", sum_value)\n",
    "        break\n",
    "\n",
    "                #     while roll():\n",
    "                #         a = random.randint(1,6)\n",
    "                #         if a >=1:\n",
    "                #             roll() == 6\n",
    "                #         sum_value += a\n",
    "                #     tot += sum_value \n",
    "                # print(tot)"
   ]
  },
  {
   "cell_type": "code",
   "execution_count": 16,
   "metadata": {},
   "outputs": [
    {
     "name": "stdout",
     "output_type": "stream",
     "text": [
      "Do you want to roll again?\n",
      "Next player roll the dice\n",
      "Computer score: 5\n"
     ]
    },
    {
     "data": {
      "text/plain": [
       "5"
      ]
     },
     "execution_count": 16,
     "metadata": {},
     "output_type": "execute_result"
    }
   ],
   "source": [
    "comp_move()"
   ]
  },
  {
   "cell_type": "code",
   "execution_count": 17,
   "metadata": {},
   "outputs": [],
   "source": [
    "# Human move\n",
    "def hum_move(): #comp_score, hum_score\n",
    "    if roll() == 6:\n",
    "        print(\"You get 0 points\\n Next player\")\n",
    "        hum_score = 0\n",
    "        hum_score = hum_score + roll()\n",
    "        print(\"Human score:\", hum_score)\n",
    "    else: #0 < roll() < 6:\n",
    "        hum_score = 0\n",
    "        hum_score = hum_score + roll()\n",
    "        roll_option()\n",
    "    # else:\n",
    "    #     #comp_score = comp_move()\n",
    "    #     #print(comp_score)\n",
    "    #     print(hum_score)\n",
    "    return hum_score #comp_score"
   ]
  },
  {
   "cell_type": "code",
   "execution_count": 18,
   "metadata": {},
   "outputs": [
    {
     "name": "stdout",
     "output_type": "stream",
     "text": [
      "Do you want to roll again?\n",
      "Next player roll the dice\n"
     ]
    },
    {
     "data": {
      "text/plain": [
       "3"
      ]
     },
     "execution_count": 18,
     "metadata": {},
     "output_type": "execute_result"
    }
   ],
   "source": [
    "hum_move()"
   ]
  },
  {
   "cell_type": "code",
   "execution_count": null,
   "metadata": {},
   "outputs": [],
   "source": []
  },
  {
   "cell_type": "code",
   "execution_count": 19,
   "metadata": {},
   "outputs": [],
   "source": [
    "def game_current_status(): #comp_score, hum_score, score_gap\n",
    "    #comp_score = sum(roll())\n",
    "    print(comp_move())\n",
    "    print(hum_move())\n",
    "    if comp_move() > hum_move():\n",
    "        score_gap = comp_move() - hum_move()\n",
    "        print(\"You are behind by:\", score_gap)\n",
    "    elif comp_move() < hum_move():\n",
    "        score_gap = hum_score - comp_score\n",
    "        print(\"You are ahead by:\", score_gap)\n",
    "    return comp_move(), hum_move(), score_gap\n"
   ]
  },
  {
   "cell_type": "code",
   "execution_count": 20,
   "metadata": {},
   "outputs": [
    {
     "name": "stdout",
     "output_type": "stream",
     "text": [
      "Do you want to roll again?\n",
      "Please input y/Y for yes and N/n for no\n",
      "Do you want to roll again?\n",
      "Please input y/Y for yes and N/n for no\n",
      "Do you want to roll again?\n",
      "Please input y/Y for yes and N/n for no\n",
      "Do you want to roll again?\n",
      "Please input y/Y for yes and N/n for no\n",
      "Do you want to roll again?\n",
      "Please input y/Y for yes and N/n for no\n",
      "Do you want to roll again?\n",
      "Please input y/Y for yes and N/n for no\n",
      "Do you want to roll again?\n",
      "Please input y/Y for yes and N/n for no\n",
      "Do you want to roll again?\n",
      "Please input y/Y for yes and N/n for no\n",
      "Do you want to roll again?\n",
      "Please input y/Y for yes and N/n for no\n",
      "Do you want to roll again?\n",
      "Please input y/Y for yes and N/n for no\n",
      "Do you want to roll again?\n",
      "Next player roll the dice\n",
      "Computer score: 1\n",
      "1\n",
      "Do you want to roll again?\n",
      "Please input y/Y for yes and N/n for no\n",
      "Do you want to roll again?\n",
      "Please input y/Y for yes and N/n for no\n",
      "Do you want to roll again?\n",
      "Please input y/Y for yes and N/n for no\n",
      "Do you want to roll again?\n",
      "Please input y/Y for yes and N/n for no\n",
      "Do you want to roll again?\n",
      "Please input y/Y for yes and N/n for no\n",
      "Do you want to roll again?\n",
      "Please input y/Y for yes and N/n for no\n",
      "Do you want to roll again?\n",
      "Please input y/Y for yes and N/n for no\n",
      "Do you want to roll again?\n",
      "Please input y/Y for yes and N/n for no\n",
      "Do you want to roll again?\n",
      "Please input y/Y for yes and N/n for no\n",
      "Do you want to roll again?\n",
      "Please input y/Y for yes and N/n for no\n",
      "Do you want to roll again?\n",
      "Please input y/Y for yes and N/n for no\n",
      "Do you want to roll again?\n",
      "Please input y/Y for yes and N/n for no\n",
      "Do you want to roll again?\n",
      "Please input y/Y for yes and N/n for no\n",
      "Do you want to roll again?\n",
      "Please input y/Y for yes and N/n for no\n",
      "Do you want to roll again?\n",
      "Please input y/Y for yes and N/n for no\n",
      "Do you want to roll again?\n",
      "Please input y/Y for yes and N/n for no\n",
      "Do you want to roll again?\n",
      "Please input y/Y for yes and N/n for no\n",
      "Do you want to roll again?\n",
      "Please input y/Y for yes and N/n for no\n",
      "Do you want to roll again?\n",
      "Please input y/Y for yes and N/n for no\n",
      "Do you want to roll again?\n",
      "Please input y/Y for yes and N/n for no\n",
      "Do you want to roll again?\n",
      "Please input y/Y for yes and N/n for no\n",
      "Do you want to roll again?\n",
      "Please input y/Y for yes and N/n for no\n",
      "Do you want to roll again?\n",
      "Please input y/Y for yes and N/n for no\n",
      "Do you want to roll again?\n",
      "Please input y/Y for yes and N/n for no\n",
      "Do you want to roll again?\n",
      "Please input y/Y for yes and N/n for no\n",
      "Do you want to roll again?\n",
      "Please input y/Y for yes and N/n for no\n",
      "Do you want to roll again?\n",
      "Please input y/Y for yes and N/n for no\n",
      "Do you want to roll again?\n",
      "Please input y/Y for yes and N/n for no\n",
      "Do you want to roll again?\n",
      "Please input y/Y for yes and N/n for no\n",
      "Do you want to roll again?\n",
      "Please input y/Y for yes and N/n for no\n",
      "Do you want to roll again?\n",
      "Please input y/Y for yes and N/n for no\n",
      "Do you want to roll again?\n",
      "Please input y/Y for yes and N/n for no\n",
      "Do you want to roll again?\n",
      "Please input y/Y for yes and N/n for no\n",
      "Do you want to roll again?\n",
      "Please input y/Y for yes and N/n for no\n",
      "Do you want to roll again?\n",
      "Please input y/Y for yes and N/n for no\n",
      "Do you want to roll again?\n",
      "Please input y/Y for yes and N/n for no\n",
      "Do you want to roll again?\n",
      "Please input y/Y for yes and N/n for no\n",
      "Do you want to roll again?\n",
      "Please input y/Y for yes and N/n for no\n",
      "Do you want to roll again?\n",
      "Please input y/Y for yes and N/n for no\n",
      "Do you want to roll again?\n",
      "Please input y/Y for yes and N/n for no\n",
      "Do you want to roll again?\n",
      "Please input y/Y for yes and N/n for no\n",
      "Do you want to roll again?\n",
      "Please input y/Y for yes and N/n for no\n",
      "Do you want to roll again?\n",
      "Please input y/Y for yes and N/n for no\n",
      "Do you want to roll again?\n",
      "Please input y/Y for yes and N/n for no\n",
      "Do you want to roll again?\n",
      "Please input y/Y for yes and N/n for no\n",
      "Do you want to roll again?\n",
      "Please input y/Y for yes and N/n for no\n",
      "Do you want to roll again?\n",
      "Please input y/Y for yes and N/n for no\n",
      "Do you want to roll again?\n",
      "Please input y/Y for yes and N/n for no\n",
      "Do you want to roll again?\n",
      "Please input y/Y for yes and N/n for no\n",
      "Do you want to roll again?\n",
      "Please input y/Y for yes and N/n for no\n",
      "Do you want to roll again?\n",
      "Please input y/Y for yes and N/n for no\n",
      "Do you want to roll again?\n",
      "Please input y/Y for yes and N/n for no\n",
      "Do you want to roll again?\n"
     ]
    }
   ],
   "source": [
    "game_current_status()"
   ]
  },
  {
   "cell_type": "code",
   "execution_count": 1,
   "metadata": {},
   "outputs": [],
   "source": [
    "def game_over():\n",
    "    if comp_score >= 50:\n",
    "        print(\"GAME OVER!!!. Computer won\")\n",
    "    elif hum_score >= 50:\n",
    "        print(\"GAME OVER. Human won\")\n",
    "    elif comp_score == hum_score:\n",
    "        print(\"It's a TIE\")\n",
    "    else:\n",
    "        print(\"keep on playing\")\n",
    "    return comp_score, hum_score"
   ]
  },
  {
   "cell_type": "code",
   "execution_count": 2,
   "metadata": {},
   "outputs": [
    {
     "ename": "NameError",
     "evalue": "name 'comp_score' is not defined",
     "output_type": "error",
     "traceback": [
      "\u001b[1;31m---------------------------------------------------------------------------\u001b[0m",
      "\u001b[1;31mNameError\u001b[0m                                 Traceback (most recent call last)",
      "\u001b[1;32m<ipython-input-2-80a3b403cd9d>\u001b[0m in \u001b[0;36m<module>\u001b[1;34m\u001b[0m\n\u001b[1;32m----> 1\u001b[1;33m \u001b[0mgame_over\u001b[0m\u001b[1;33m(\u001b[0m\u001b[1;33m)\u001b[0m\u001b[1;33m\u001b[0m\u001b[1;33m\u001b[0m\u001b[0m\n\u001b[0m",
      "\u001b[1;32m<ipython-input-1-c4238cdb4a48>\u001b[0m in \u001b[0;36mgame_over\u001b[1;34m()\u001b[0m\n\u001b[0;32m      1\u001b[0m \u001b[1;32mdef\u001b[0m \u001b[0mgame_over\u001b[0m\u001b[1;33m(\u001b[0m\u001b[1;33m)\u001b[0m\u001b[1;33m:\u001b[0m\u001b[1;33m\u001b[0m\u001b[1;33m\u001b[0m\u001b[0m\n\u001b[1;32m----> 2\u001b[1;33m     \u001b[1;32mif\u001b[0m \u001b[0mcomp_score\u001b[0m \u001b[1;33m>=\u001b[0m \u001b[1;36m50\u001b[0m\u001b[1;33m:\u001b[0m\u001b[1;33m\u001b[0m\u001b[1;33m\u001b[0m\u001b[0m\n\u001b[0m\u001b[0;32m      3\u001b[0m         \u001b[0mprint\u001b[0m\u001b[1;33m(\u001b[0m\u001b[1;34m\"GAME OVER!!!. Computer won\"\u001b[0m\u001b[1;33m)\u001b[0m\u001b[1;33m\u001b[0m\u001b[1;33m\u001b[0m\u001b[0m\n\u001b[0;32m      4\u001b[0m     \u001b[1;32melif\u001b[0m \u001b[0mhum_score\u001b[0m \u001b[1;33m>=\u001b[0m \u001b[1;36m50\u001b[0m\u001b[1;33m:\u001b[0m\u001b[1;33m\u001b[0m\u001b[1;33m\u001b[0m\u001b[0m\n\u001b[0;32m      5\u001b[0m         \u001b[0mprint\u001b[0m\u001b[1;33m(\u001b[0m\u001b[1;34m\"GAME OVER. Human won\"\u001b[0m\u001b[1;33m)\u001b[0m\u001b[1;33m\u001b[0m\u001b[1;33m\u001b[0m\u001b[0m\n",
      "\u001b[1;31mNameError\u001b[0m: name 'comp_score' is not defined"
     ]
    }
   ],
   "source": [
    "game_over()"
   ]
  },
  {
   "cell_type": "code",
   "execution_count": null,
   "metadata": {},
   "outputs": [],
   "source": [
    "def final_result(comp_score, hum_score):\n",
    "    print(player_name, \"won by\",sum(roll()))\n",
    "    print(\"Computer won by\" comp_score, player_name,\" has\", hum_score, \"point(s)\")\n",
    "    # comp_score = 0\n",
    "    # i = 0\n",
    "    # n = sum(roll())\n",
    "    # while i <= n:\n",
    "    #     i = i + 1\n",
    "    #     n >= 50"
   ]
  },
  {
   "cell_type": "code",
   "execution_count": null,
   "metadata": {},
   "outputs": [],
   "source": []
  },
  {
   "cell_type": "code",
   "execution_count": 13,
   "metadata": {},
   "outputs": [],
   "source": [
    "import random\n",
    "\n",
    "# Function for printing out rules\n",
    "def print_rules():\n",
    "    welcome = print(\"Hello players, Welcome to Dice-Life:\\n Rules\\n 1. The game can be played by more than 1 player.\\n 2. The players are allowed to roll the die as much as they want. \\n 3. If the rolled die lands on any number between 1 and 5 inclusive, you earn the points and are allowed to roll the die again. \\n 4. If the rolled die lands on six, you get zero points no matter the points you had gained in previous rolls and the next player is allowed to roll the die. \\n\\n The game starts now.\")\n",
    "    return welcome\n",
    "\n",
    "# Function for entering the number of players and their names\n",
    "# Assigning variables to the individual players remaining\n",
    "def no_of_players():\n",
    "    players_no = int(input(\"Enter the number of players:\"))\n",
    "    player = []\n",
    "    plyrs_no_initial = 1\n",
    "    while plyrs_no_initial <= players_no:\n",
    "        player_name = input(\"Player name:\")\n",
    "        player.append(player_name)   \n",
    "        name = print(\"Player\",plyrs_no_initial, \"is\",player_name)\n",
    "        plyrs_no_initial = plyrs_no_initial + 1\n",
    "        \n",
    "        continue\n",
    "        #plyrs_no_initial[0] = player_name\n",
    "    print(player)\n",
    "    return name\n",
    "\n",
    "# function for rolling the die. Genrates random numbers between 1 and 6\n",
    "def roll():\n",
    "    die_roll = random.randint(1,6)\n",
    "    # nb_trials = 1#0000\n",
    "    # random_list = []\n",
    "    # for i in range(nb_trials):\n",
    "    #     n = die_roll\n",
    "    #     if die_roll < 6:\n",
    "    #         # n = die_roll\n",
    "    #         random_list.append(n)\n",
    "    #         print(random_list)\n",
    "    #         continue\n",
    "                    \n",
    "    #     else : #roll() == 6\n",
    "    #         n = 0\n",
    "    #         random_list.append(n)\n",
    "    #         print(random_list)\n",
    "    #         break\n",
    "    # print(\"The total is\",sum(random_list))\n",
    "    return die_roll #random_list,\n",
    "\n",
    "# Ask user if they want to roll  again\n",
    "def roll_option():\n",
    "    while True:\n",
    "        try:\n",
    "            \n",
    "            print(\"Do you want to roll again?\")\n",
    "            roll_consent = input(\"Enter Y/y for yes and n/N for no:\")\n",
    "            # First value of string roll consent is y\n",
    "            if roll_consent[0] == \"y\":\n",
    "                print(\"roll again\")\n",
    "                roll()             \n",
    "                continue\n",
    "            elif roll_consent[0] == \"Y\":\n",
    "                print(\"roll again\")\n",
    "                roll()\n",
    "                continue\n",
    "            elif roll_consent[0] == \"n\":\n",
    "                print(\"Next player roll the dice\")\n",
    "                break\n",
    "            elif roll_consent[0] == \"N\":\n",
    "                print(\"Next player roll the dice\")\n",
    "                break    \n",
    "            #else:\n",
    "                #print(\"Next player roll the dice\")\n",
    "        except:\n",
    "            print(\"Please input y/Y for yes and N/n for no\")\n",
    "            continue\n",
    "    return roll_consent\n",
    "\n",
    "# computer move\n",
    "def comp_move(): #comp_score, hum_score\n",
    "    roll_option()\n",
    "    comp_score = [0]\n",
    "    if roll() == 6:\n",
    "        score = 0\n",
    "        comp_score.append(score)\n",
    "        print(\"The computer score is:\", comp_score)\n",
    "        print(\"next player\")\n",
    "  \n",
    "    elif roll() <= 5:\n",
    "        comp_score = comp_score.append(roll)\n",
    "        print(\"The computer score is:\", comp_score)\n",
    "        roll_option()\n",
    "    \n",
    "    return comp_score\n",
    "\n",
    "# Human move\n",
    "def human_move():\n",
    "    roll_option()\n",
    "    hum_score = [0]\n",
    "    if roll == 6:\n",
    "        no_score = 0\n",
    "        hum_score.append(no_score)\n",
    "        print(\"The human score is\", hum_score)\n",
    "    \n",
    "    elif roll <= 5:\n",
    "        hum_score.append(roll)\n",
    "        print(\"The human score is\", hum_score)\n",
    "\n",
    "    return hum_score"
   ]
  },
  {
   "cell_type": "code",
   "execution_count": 14,
   "metadata": {},
   "outputs": [
    {
     "name": "stdout",
     "output_type": "stream",
     "text": [
      "Hello players, Welcome to Dice-Life:\n",
      " Rules\n",
      " 1. The game can be played by more than 1 player.\n",
      " 2. The players are allowed to roll the die as much as they want. \n",
      " 3. If the rolled die lands on any number between 1 and 5 inclusive, you earn the points and are allowed to roll the die again. \n",
      " 4. If the rolled die lands on six, you get zero points no matter the points you had gained in previous rolls and the next player is allowed to roll the die. \n",
      "\n",
      " The game starts now.\n",
      "None\n",
      "Player 1 is y\n",
      "['y']\n",
      "None\n",
      "Do you want to roll again?\n",
      "roll again\n",
      "Do you want to roll again?\n",
      "roll again\n",
      "Do you want to roll again?\n",
      "Next player roll the dice\n",
      "The computer score is: None\n",
      "Do you want to roll again?\n",
      "Next player roll the dice\n",
      "None\n",
      "Do you want to roll again?\n",
      "Next player roll the dice\n"
     ]
    },
    {
     "ename": "TypeError",
     "evalue": "'<=' not supported between instances of 'function' and 'int'",
     "output_type": "error",
     "traceback": [
      "\u001b[1;31m---------------------------------------------------------------------------\u001b[0m",
      "\u001b[1;31mTypeError\u001b[0m                                 Traceback (most recent call last)",
      "\u001b[1;32m<ipython-input-14-241e0fe69705>\u001b[0m in \u001b[0;36m<module>\u001b[1;34m\u001b[0m\n\u001b[0;32m     19\u001b[0m \u001b[1;33m\u001b[0m\u001b[0m\n\u001b[0;32m     20\u001b[0m \u001b[1;31m# Calling human move function\u001b[0m\u001b[1;33m\u001b[0m\u001b[1;33m\u001b[0m\u001b[1;33m\u001b[0m\u001b[0m\n\u001b[1;32m---> 21\u001b[1;33m \u001b[0mhum_move\u001b[0m \u001b[1;33m=\u001b[0m \u001b[0mhuman_move\u001b[0m\u001b[1;33m(\u001b[0m\u001b[1;33m)\u001b[0m\u001b[1;33m\u001b[0m\u001b[1;33m\u001b[0m\u001b[0m\n\u001b[0m\u001b[0;32m     22\u001b[0m \u001b[0mprint\u001b[0m\u001b[1;33m(\u001b[0m\u001b[0mhum_move\u001b[0m\u001b[1;33m)\u001b[0m\u001b[1;33m\u001b[0m\u001b[1;33m\u001b[0m\u001b[0m\n",
      "\u001b[1;32m<ipython-input-13-bebcefffcc82>\u001b[0m in \u001b[0;36mhuman_move\u001b[1;34m()\u001b[0m\n\u001b[0;32m     99\u001b[0m         \u001b[0mprint\u001b[0m\u001b[1;33m(\u001b[0m\u001b[1;34m\"The human score is\"\u001b[0m\u001b[1;33m,\u001b[0m \u001b[0mhum_score\u001b[0m\u001b[1;33m)\u001b[0m\u001b[1;33m\u001b[0m\u001b[1;33m\u001b[0m\u001b[0m\n\u001b[0;32m    100\u001b[0m \u001b[1;33m\u001b[0m\u001b[0m\n\u001b[1;32m--> 101\u001b[1;33m     \u001b[1;32melif\u001b[0m \u001b[0mroll\u001b[0m \u001b[1;33m<=\u001b[0m \u001b[1;36m5\u001b[0m\u001b[1;33m:\u001b[0m\u001b[1;33m\u001b[0m\u001b[1;33m\u001b[0m\u001b[0m\n\u001b[0m\u001b[0;32m    102\u001b[0m         \u001b[0mhum_score\u001b[0m\u001b[1;33m.\u001b[0m\u001b[0mappend\u001b[0m\u001b[1;33m(\u001b[0m\u001b[0mroll\u001b[0m\u001b[1;33m)\u001b[0m\u001b[1;33m\u001b[0m\u001b[1;33m\u001b[0m\u001b[0m\n\u001b[0;32m    103\u001b[0m         \u001b[0mprint\u001b[0m\u001b[1;33m(\u001b[0m\u001b[1;34m\"The human score is\"\u001b[0m\u001b[1;33m,\u001b[0m \u001b[0mhum_score\u001b[0m\u001b[1;33m)\u001b[0m\u001b[1;33m\u001b[0m\u001b[1;33m\u001b[0m\u001b[0m\n",
      "\u001b[1;31mTypeError\u001b[0m: '<=' not supported between instances of 'function' and 'int'"
     ]
    }
   ],
   "source": [
    "# Welcome players and inform them of the rules\n",
    "welcome = print_rules()\n",
    "print(welcome)\n",
    "\n",
    "# Printing out the names of the players\n",
    "player = no_of_players()\n",
    "print(player)\n",
    "\n",
    "# Printing out the list of rolls\n",
    "# roll_cons = roll_option()\n",
    "# print(roll_cons)\n",
    "\n",
    "# roll = roll()\n",
    "# print(roll)\n",
    "\n",
    "# Calling Computer move function\n",
    "computer_move = comp_move()\n",
    "print(computer_move)\n",
    "\n",
    "# Calling human move function\n",
    "hum_move = human_move()\n",
    "print(hum_move)"
   ]
  },
  {
   "cell_type": "code",
   "execution_count": null,
   "metadata": {},
   "outputs": [],
   "source": [
    "from random import randint\n",
    "\n",
    "# Variables\n",
    "die = 6\n",
    "trigger = 1\n",
    "run = True\n",
    "points = 0\n",
    "\n",
    "while run:\n",
    "    # Ask user if he wants to roll\n",
    "    inp = input(\"Do you want to roll? y/n: \")\n",
    "    # If user enters \"y\" or \"Y\"\n",
    "    if inp == \"y\" or inp == \"Y\":\n",
    "        # Roll the dice from 1 to our die variable (6)\n",
    "        roll = randint(1, die)\n",
    "        # Check if the roll isn't the same as our trigger\n",
    "        if roll != trigger:\n",
    "            # Add points to score\n",
    "            points = points + roll\n",
    "            # Show points and new score.\n",
    "            print(roll.__str__() + \" points added to your score.\")\n",
    "            print(\"Your score is: \" + points.__str__())\n",
    "            \n",
    "        else:\n",
    "            # If the roll hits the trigger, end the game\n",
    "            run = False\n",
    "            # Print final score before terminating\n",
    "            print(\"You rolled 1! Your score was: \" + points.__str__())\n",
    "    else: \n",
    "        # If the user wants to stop the game\n",
    "        run = False\n",
    "        # Print final score before terminating\n",
    "        print(\"Your score is: \" + points.__str__())"
   ]
  },
  {
   "cell_type": "code",
   "execution_count": null,
   "metadata": {},
   "outputs": [],
   "source": [
    "from random import randint\n",
    "\n",
    "# Variables\n",
    "die = 6\n",
    "trigger = 1\n",
    "run = True\n",
    "points = 0\n",
    "\n",
    "while run:"
   ]
  },
  {
   "cell_type": "code",
   "execution_count": null,
   "metadata": {},
   "outputs": [],
   "source": [
    "# def plus(*args):\n",
    "#     # Local variable `sum()`\n",
    "#     hum_total = 0\n",
    "#     for i in args:\n",
    "#         hum_total += i\n",
    "#     return hum_total"
   ]
  }
 ],
 "metadata": {
  "kernelspec": {
   "display_name": "Python 3.8.5 ('base')",
   "language": "python",
   "name": "python3"
  },
  "language_info": {
   "codemirror_mode": {
    "name": "ipython",
    "version": 3
   },
   "file_extension": ".py",
   "mimetype": "text/x-python",
   "name": "python",
   "nbconvert_exporter": "python",
   "pygments_lexer": "ipython3",
   "version": "3.8.5"
  },
  "orig_nbformat": 4,
  "vscode": {
   "interpreter": {
    "hash": "0158f461a1e426a45f9154fbe11f5f157d30f8e5e8870a555ead6699a1a69202"
   }
  }
 },
 "nbformat": 4,
 "nbformat_minor": 2
}
